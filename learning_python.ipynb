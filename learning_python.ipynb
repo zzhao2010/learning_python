{
  "nbformat": 4,
  "nbformat_minor": 0,
  "metadata": {
    "colab": {
      "provenance": [],
      "collapsed_sections": [
        "343RGogBBLVI",
        "_OIKtxXhCfUT",
        "_LUOQ09qDgnJ"
      ],
      "authorship_tag": "ABX9TyO1TI8VJH/vHvWfFGdUsbgn",
      "include_colab_link": true
    },
    "kernelspec": {
      "name": "python3",
      "display_name": "Python 3"
    },
    "language_info": {
      "name": "python"
    }
  },
  "cells": [
    {
      "cell_type": "markdown",
      "metadata": {
        "id": "view-in-github",
        "colab_type": "text"
      },
      "source": [
        "<a href=\"https://colab.research.google.com/github/zzhao2010/learning_python/blob/main/learning_python.ipynb\" target=\"_parent\"><img src=\"https://colab.research.google.com/assets/colab-badge.svg\" alt=\"Open In Colab\"/></a>"
      ]
    },
    {
      "cell_type": "markdown",
      "source": [
        "# Function"
      ],
      "metadata": {
        "id": "iSen5Pil_3fJ"
      }
    },
    {
      "cell_type": "markdown",
      "source": [
        "### lambda - anonymous function\n",
        "`lambda arguments : expression`"
      ],
      "metadata": {
        "id": "nvC2FuD51kuT"
      }
    },
    {
      "cell_type": "code",
      "source": [
        "x = lambda a : a + 10\n",
        "print(x(5))"
      ],
      "metadata": {
        "colab": {
          "base_uri": "https://localhost:8080/"
        },
        "id": "uP5cIeb61r36",
        "outputId": "94b77641-052d-457f-ab70-e3615a29aa09"
      },
      "execution_count": 43,
      "outputs": [
        {
          "output_type": "stream",
          "name": "stdout",
          "text": [
            "15\n"
          ]
        }
      ]
    },
    {
      "cell_type": "markdown",
      "source": [
        "### regexp\n",
        "\n",
        "```\n",
        "import re\n",
        "```\n",
        "* character classes\n",
        "  * ```\\w``` == [a--zA-Z0-9_]\n",
        "\n",
        "  * ```\\d``` == [0-9]\n",
        "\n",
        "  * ```+```  == matches for multiple characters\n",
        "* groups ```()```\n"
      ],
      "metadata": {
        "id": "4zhf6KBL1rhx"
      }
    },
    {
      "cell_type": "code",
      "source": [
        "import re\n",
        "cc_list = '''\n",
        "  Zhang Zhao <zhang_zhao@gmail.com>,\n",
        "  Shuai Ma <shuai_ma@gmail.com>,\n",
        "  Wei Zhou <wei_zhou@gmail.com>\n",
        "'''\n",
        "\n",
        "matched = re.search(r\"(\\w+)\\@(\\w+)\\.(\\w+)\", cc_list)\n",
        "matched.group(0)"
      ],
      "metadata": {
        "colab": {
          "base_uri": "https://localhost:8080/",
          "height": 35
        },
        "id": "5hhp7k2B3EBn",
        "outputId": "a8a3193f-84a0-4a06-8ba8-fed028bf9f26"
      },
      "execution_count": 58,
      "outputs": [
        {
          "output_type": "execute_result",
          "data": {
            "text/plain": [
              "'zhang_zhao@gmail.com'"
            ],
            "application/vnd.google.colaboratory.intrinsic+json": {
              "type": "string"
            }
          },
          "metadata": {},
          "execution_count": 58
        }
      ]
    },
    {
      "cell_type": "code",
      "source": [
        "import re\n",
        "cc_list = '''\n",
        "  Zhang Zhao <zhang_zhao@gmail.com>,\n",
        "  Shuai Ma <shuai_ma@gmail.com>,\n",
        "  Wei Zhou <wei_zhou@gmail.com>\n",
        "'''\n",
        "\n",
        "matched = re.search(r\"(?P<name>\\w+)\\@(?P<SLD>\\w+)\\.(?P<TLD>\\w+)\", cc_list)\n",
        "matched.group(\"name\")\n"
      ],
      "metadata": {
        "colab": {
          "base_uri": "https://localhost:8080/",
          "height": 35
        },
        "id": "pSW72vQu_GRb",
        "outputId": "3ff651c5-bbce-455e-ca1e-d4aadbd08e01"
      },
      "execution_count": 59,
      "outputs": [
        {
          "output_type": "execute_result",
          "data": {
            "text/plain": [
              "'zhang_zhao'"
            ],
            "application/vnd.google.colaboratory.intrinsic+json": {
              "type": "string"
            }
          },
          "metadata": {},
          "execution_count": 59
        }
      ]
    },
    {
      "cell_type": "code",
      "source": [
        "import re\n",
        "cc_list = '''\n",
        "  Zhang Zhao <zhang_zhao@gmail.com>,\n",
        "  Shuai Ma <shuai_ma@gmail.com>,\n",
        "  Wei Zhou <wei_zhou@gmail.com>\n",
        "'''\n",
        "\n",
        "matched = re.finditer(r\"(?P<name>\\w+)\\@(?P<SLD>\\w+)\\.(?P<TLD>\\w+)\", cc_list)\n",
        "for m in matched:\n",
        "  print(m.groupdict())"
      ],
      "metadata": {
        "colab": {
          "base_uri": "https://localhost:8080/"
        },
        "id": "MlCAZ8ifAe3h",
        "outputId": "174cfcca-fd87-4910-e3d7-b754490c1c01"
      },
      "execution_count": 66,
      "outputs": [
        {
          "output_type": "stream",
          "name": "stdout",
          "text": [
            "{'name': 'zhang_zhao', 'SLD': 'gmail', 'TLD': 'com'}\n",
            "{'name': 'shuai_ma', 'SLD': 'gmail', 'TLD': 'com'}\n",
            "{'name': 'wei_zhou', 'SLD': 'gmail', 'TLD': 'com'}\n"
          ]
        }
      ]
    },
    {
      "cell_type": "markdown",
      "source": [
        "### complete function with documentation"
      ],
      "metadata": {
        "id": "343RGogBBLVI"
      }
    },
    {
      "cell_type": "code",
      "source": [
        "def add(x, y):\n",
        "  \"\"\"This function adds values together\"\"\"\n",
        "  calculation = x + y\n",
        "  return calculation\n",
        "\n",
        "result = add(3,5)\n",
        "print(result)\n",
        "\n",
        "add.__doc__"
      ],
      "metadata": {
        "colab": {
          "base_uri": "https://localhost:8080/",
          "height": 53
        },
        "id": "-6d4mehjBTNO",
        "outputId": "7a589d9c-da53-498a-a834-3b12c0294860"
      },
      "execution_count": 3,
      "outputs": [
        {
          "output_type": "stream",
          "name": "stdout",
          "text": [
            "8\n"
          ]
        },
        {
          "output_type": "execute_result",
          "data": {
            "text/plain": [
              "'This function adds values together'"
            ],
            "application/vnd.google.colaboratory.intrinsic+json": {
              "type": "string"
            }
          },
          "metadata": {},
          "execution_count": 3
        }
      ]
    },
    {
      "cell_type": "markdown",
      "source": [
        "### keyward arguments"
      ],
      "metadata": {
        "id": "_OIKtxXhCfUT"
      }
    },
    {
      "cell_type": "code",
      "source": [
        "def keyword_add(x=1, y=2):\n",
        "  \"\"\"This is a keyword style add function\"\"\"\n",
        "  calculation = x + y\n",
        "  return (f\"This is my result: {calculation}\")\n",
        "\n",
        "result = keyword_add(x=4, y=10)\n",
        "print(result)"
      ],
      "metadata": {
        "colab": {
          "base_uri": "https://localhost:8080/"
        },
        "id": "xwEWgK4OC14Z",
        "outputId": "b8133cfa-8155-4183-e3ab-90514ed46fa1"
      },
      "execution_count": 6,
      "outputs": [
        {
          "output_type": "stream",
          "name": "stdout",
          "text": [
            "This is my result: 14\n"
          ]
        }
      ]
    },
    {
      "cell_type": "markdown",
      "source": [
        "### infinite arguments"
      ],
      "metadata": {
        "id": "_LUOQ09qDgnJ"
      }
    },
    {
      "cell_type": "code",
      "source": [
        "def infinite(**kwargs):\n",
        "  \"\"\"This takes infinite keyword arguments\"\"\"\n",
        "  for key, value in kwargs.items():\n",
        "    print(f\"key: {key}, value: {value}\")\n",
        "\n",
        "infinite(x=1, y=2, z=3)"
      ],
      "metadata": {
        "colab": {
          "base_uri": "https://localhost:8080/"
        },
        "id": "q7BF6CbbDmPK",
        "outputId": "2ed6b708-e674-457c-b974-f1379f5360c3"
      },
      "execution_count": 7,
      "outputs": [
        {
          "output_type": "stream",
          "name": "stdout",
          "text": [
            "key: x, value: 1\n",
            "key: y, value: 2\n",
            "key: z, value: 3\n"
          ]
        }
      ]
    },
    {
      "cell_type": "markdown",
      "source": [
        "### generator\n",
        "Use the **yield** keyword rather than a return statement. \n",
        "\n",
        "Every time the generator is called, it returns the value specified by yield and then pauses its state until it is next called. "
      ],
      "metadata": {
        "id": "LsmRxndlCYG4"
      }
    },
    {
      "cell_type": "code",
      "source": [
        "def count():\n",
        "  n = 0\n",
        "  while True:\n",
        "    n += 1\n",
        "    yield n\n",
        "\n",
        "counter = count()\n",
        "next(counter)"
      ],
      "metadata": {
        "colab": {
          "base_uri": "https://localhost:8080/"
        },
        "id": "7rHA1ZRpC3_q",
        "outputId": "d7240659-a520-4e90-cb90-f6fd46445b80"
      },
      "execution_count": 68,
      "outputs": [
        {
          "output_type": "execute_result",
          "data": {
            "text/plain": [
              "1"
            ]
          },
          "metadata": {},
          "execution_count": 68
        }
      ]
    },
    {
      "cell_type": "code",
      "source": [
        "import sys\n",
        "# list comprehensions\n",
        "list_o_nums = [x for x in range(10)]\n",
        "\n",
        "sys.getsizeof(list_o_nums)"
      ],
      "metadata": {
        "colab": {
          "base_uri": "https://localhost:8080/"
        },
        "id": "vcO0P0bvDXOn",
        "outputId": "6a86a331-bd8a-46f4-a5fa-991a5d339ca8"
      },
      "execution_count": 80,
      "outputs": [
        {
          "output_type": "execute_result",
          "data": {
            "text/plain": [
              "200"
            ]
          },
          "metadata": {},
          "execution_count": 80
        }
      ]
    },
    {
      "cell_type": "code",
      "source": [
        "import sys\n",
        "# generator comprehensions\n",
        "gen_o_nums = (x for x in range(10))\n",
        "next(gen_o_nums)\n",
        "sys.getsizeof(gen_o_nums)"
      ],
      "metadata": {
        "colab": {
          "base_uri": "https://localhost:8080/"
        },
        "id": "bNcMRmzTD3xW",
        "outputId": "2e5f5e7a-1f65-43e9-cf53-14760fb3a13c"
      },
      "execution_count": 82,
      "outputs": [
        {
          "output_type": "execute_result",
          "data": {
            "text/plain": [
              "128"
            ]
          },
          "metadata": {},
          "execution_count": 82
        }
      ]
    },
    {
      "cell_type": "markdown",
      "source": [
        "### decorator"
      ],
      "metadata": {
        "id": "tULZc5mLEZCQ"
      }
    },
    {
      "cell_type": "code",
      "source": [
        "from functools import wraps\n",
        "from time import time, sleep\n",
        "\n",
        "def duration(f):\n",
        "  @wraps(f)\n",
        "  def wrap(*args, **kw):\n",
        "    t_start = time()\n",
        "    result = f(*args, **kw)\n",
        "    t_end = time()\n",
        "    print(f\"function_name: {f.__name__}, args: [{args}, {kw}] took: {t_end - t_start} sec\")\n",
        "    print(f\"docstring: {f.__doc__}\")\n",
        "    return result\n",
        "  return wrap\n",
        "\n",
        "@duration\n",
        "def slow_calc(x=1000, y=2000):\n",
        "  \"\"\"This is a simulated slow calculation\"\"\"\n",
        "  sleep(3)  # simulates slow calculation\n",
        "  result = x + y\n",
        "  return result\n",
        "\n",
        "value = slow_calc(x=30, y=50)"
      ],
      "metadata": {
        "colab": {
          "base_uri": "https://localhost:8080/"
        },
        "id": "0e9nxEHCEckf",
        "outputId": "741c1048-f173-4824-d09d-fb16f79ce2c0"
      },
      "execution_count": 12,
      "outputs": [
        {
          "output_type": "stream",
          "name": "stdout",
          "text": [
            "function_name: slow_calc, args: [(), {'x': 30, 'y': 50}] took: 3.004037618637085 sec\n",
            "docstring: This is a simulated slow calculation\n"
          ]
        }
      ]
    },
    {
      "cell_type": "code",
      "source": [
        "def start_twice(func):\n",
        "  def inner(*args, **kwargs):\n",
        "    print(\"**\")\n",
        "    func(*args, **kwargs)\n",
        "    print(\"**\")\n",
        "  return inner\n",
        "\n",
        "def start_three_times(func):\n",
        "  def inner(*args, **kwargs):\n",
        "    print(\"***\")\n",
        "    func(*args, **kwargs)\n",
        "    print(\"***\")\n",
        "  return inner\n",
        "\n",
        "\n",
        "# start_twice(start_three_time(simple_function))\n",
        "@start_twice\n",
        "@start_three_times\n",
        "def simple_function(msg):\n",
        "  print(msg)\n",
        "\n",
        "simple_function(123)"
      ],
      "metadata": {
        "colab": {
          "base_uri": "https://localhost:8080/"
        },
        "id": "l85tyGvRXorY",
        "outputId": "3fee7b8d-0127-4b34-d8a4-858b89f8a446"
      },
      "execution_count": 18,
      "outputs": [
        {
          "output_type": "stream",
          "name": "stdout",
          "text": [
            "**\n",
            "***\n",
            "123\n",
            "***\n",
            "**\n"
          ]
        }
      ]
    },
    {
      "cell_type": "markdown",
      "source": [
        "### closures\n",
        "A closure is a function object that remembers values in enclusing scopes even if they are not present in memory.\n",
        "\n",
        "* nested functions\n",
        "  * A function that is defined inside another function. Nested functions are able to access variables of the enclosing scoped\n",
        "* non-local variables \n",
        "  * non-local variables can be accessed only within their scope and not outside their scope"
      ],
      "metadata": {
        "id": "rBjK1j_Ncwk7"
      }
    },
    {
      "cell_type": "code",
      "source": [
        "# nested functions\n",
        "# innerFunc can be accessed inside the outerFunc body. It's treated as nested function which uses text as non-local variable\n",
        "def outerFunc(text):\n",
        "  def innerFunc():\n",
        "    print(text)\n",
        "  return innerFunc()\n",
        "\n",
        "outerFunc(\"Hey!!!\")\n",
        "\n",
        "# closures\n",
        "import logging\n",
        "logging.basicConfig(filename='example.log', level=logging.INFO)\n",
        "  \n",
        "def logger(func):\n",
        "    def log_func(*args):\n",
        "        logging.info('Running \"{}\" with arguments {}'.format(func.__name__, args))\n",
        "        print(func(*args))\n",
        "\n",
        "    # Necessary for closure to\n",
        "    # work (returning WITHOUT parenthesis)\n",
        "    return log_func           \n",
        " \n",
        "def add(x, y):\n",
        "    return x+y\n",
        " \n",
        "def sub(x, y):\n",
        "    return x-y\n",
        " \n",
        "add_logger = logger(add)\n",
        "sub_logger = logger(sub)\n",
        " \n",
        "add_logger(3, 3)\n",
        "add_logger(4, 5)\n",
        " \n",
        "sub_logger(10, 5)\n",
        "sub_logger(20, 10)"
      ],
      "metadata": {
        "colab": {
          "base_uri": "https://localhost:8080/"
        },
        "id": "cdnrf2a9eRkB",
        "outputId": "aec15b48-b884-4e07-ee14-614a811752e4"
      },
      "execution_count": 42,
      "outputs": [
        {
          "output_type": "stream",
          "name": "stdout",
          "text": [
            "Hey!!!\n",
            "6\n",
            "9\n",
            "5\n",
            "10\n"
          ]
        }
      ]
    },
    {
      "cell_type": "markdown",
      "source": [
        "### partial functions\n",
        "* Useful to partial assign default values to functions\n",
        "* A great way to build process control.\n",
        "  * call a function in a way that does not invoke it until all arguments are called"
      ],
      "metadata": {
        "id": "qGqN3PZLj5wu"
      }
    },
    {
      "cell_type": "code",
      "source": [
        "from functools import partial\n",
        "import datetime\n",
        "\n",
        "def my_pipeline(extract, load, transform):\n",
        "  \"\"\"This is a pipeline partial function\"\"\"\n",
        "  print(f\"Extract phase: {extract}\")\n",
        "  print(f\"Load phase: {load}\")\n",
        "  print(f\"Transform phase: {transform}\")\n",
        "\n",
        "now = datetime.datetime.now()\n",
        "pipeline = partial(my_pipeline, datetime.datetime.now(), datetime.datetime.now())\n",
        "pipeline(datetime.datetime.now())\n"
      ],
      "metadata": {
        "colab": {
          "base_uri": "https://localhost:8080/"
        },
        "id": "B8Csp9a9kIVI",
        "outputId": "dce763c0-0ac0-476e-f24a-a50ff97925b3"
      },
      "execution_count": 41,
      "outputs": [
        {
          "output_type": "stream",
          "name": "stdout",
          "text": [
            "Extract phase: 2022-10-24 20:14:11.304148\n",
            "Load phase: 2022-10-24 20:14:11.304156\n",
            "Transform phase: 2022-10-24 20:14:11.304204\n"
          ]
        }
      ]
    },
    {
      "cell_type": "markdown",
      "source": [
        "### utilities in Python functions"
      ],
      "metadata": {
        "id": "FGmJu34RpBmY"
      }
    },
    {
      "cell_type": "markdown",
      "source": [
        "# OOP"
      ],
      "metadata": {
        "id": "-QXWQo_M_yR9"
      }
    },
    {
      "cell_type": "markdown",
      "source": [
        "### class constructors and __init__() function"
      ],
      "metadata": {
        "id": "p5MAxlYp-szR"
      }
    },
    {
      "cell_type": "code",
      "source": [
        "class Question:\n",
        "  def __init__(self, q_text, q_answer):\n",
        "    self.text = q_text\n",
        "    self.answer = q_answer\n",
        "\n",
        "new_q = Question(\"What's your name?\", \"Zhang\")\n",
        "print (f\"The question is {new_q.text} and the answer is {new_q.answer}\")"
      ],
      "metadata": {
        "colab": {
          "base_uri": "https://localhost:8080/"
        },
        "id": "45Q_GzCS-pTP",
        "outputId": "32c67735-072f-4d87-acaa-e6059d3e6630"
      },
      "execution_count": 1,
      "outputs": [
        {
          "output_type": "stream",
          "name": "stdout",
          "text": [
            "The question is What's your name? and the answer is Zhang\n"
          ]
        }
      ]
    }
  ]
}