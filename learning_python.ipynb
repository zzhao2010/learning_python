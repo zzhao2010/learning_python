{
  "nbformat": 4,
  "nbformat_minor": 0,
  "metadata": {
    "colab": {
      "provenance": [],
      "authorship_tag": "ABX9TyOh2eaps9cVHgPWCiXhiaWV",
      "include_colab_link": true
    },
    "kernelspec": {
      "name": "python3",
      "display_name": "Python 3"
    },
    "language_info": {
      "name": "python"
    }
  },
  "cells": [
    {
      "cell_type": "markdown",
      "metadata": {
        "id": "view-in-github",
        "colab_type": "text"
      },
      "source": [
        "<a href=\"https://colab.research.google.com/github/zzhao2010/learning_python/blob/main/learning_python.ipynb\" target=\"_parent\"><img src=\"https://colab.research.google.com/assets/colab-badge.svg\" alt=\"Open In Colab\"/></a>"
      ]
    },
    {
      "cell_type": "markdown",
      "source": [
        "# OOP "
      ],
      "metadata": {
        "id": "S2FBmL9c77aj"
      }
    },
    {
      "cell_type": "markdown",
      "source": [
        "## class constructors and __init__() function"
      ],
      "metadata": {
        "id": "p5MAxlYp-szR"
      }
    },
    {
      "cell_type": "code",
      "source": [
        "class Question:\n",
        "  def __init__(self, q_text, q_answer):\n",
        "    self.text = q_text\n",
        "    self.answer = q_answer\n",
        "\n",
        "new_q = Question(\"What's your name?\", \"Zhang\")\n",
        "print (f\"The question is {new_q.text} and the answer is {new_q.answer}\")"
      ],
      "metadata": {
        "colab": {
          "base_uri": "https://localhost:8080/"
        },
        "id": "45Q_GzCS-pTP",
        "outputId": "32c67735-072f-4d87-acaa-e6059d3e6630"
      },
      "execution_count": 1,
      "outputs": [
        {
          "output_type": "stream",
          "name": "stdout",
          "text": [
            "The question is What's your name? and the answer is Zhang\n"
          ]
        }
      ]
    }
  ]
}